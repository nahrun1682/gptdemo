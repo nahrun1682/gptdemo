{
 "cells": [
  {
   "cell_type": "code",
   "execution_count": 7,
   "id": "3a86ca70",
   "metadata": {},
   "outputs": [
    {
     "name": "stdout",
     "output_type": "stream",
     "text": [
      "\n",
      "     active environment : gptenv\n",
      "    active env location : C:\\Users\\kawam\\anaconda3\\envs\\gptenv\n",
      "            shell level : 1\n",
      "       user config file : C:\\Users\\kawam\\.condarc\n",
      " populated config files : C:\\Users\\kawam\\.condarc\n",
      "          conda version : 23.7.4\n",
      "    conda-build version : 3.26.1\n",
      "         python version : 3.11.5.final.0\n",
      "       virtual packages : __archspec=1=x86_64\n",
      "                          __cuda=12.1=0\n",
      "                          __win=0=0\n",
      "       base environment : C:\\Users\\kawam\\anaconda3  (writable)\n",
      "      conda av data dir : C:\\Users\\kawam\\anaconda3\\etc\\conda\n",
      "  conda av metadata url : None\n",
      "           channel URLs : https://repo.anaconda.com/pkgs/main/win-64\n",
      "                          https://repo.anaconda.com/pkgs/main/noarch\n",
      "                          https://repo.anaconda.com/pkgs/r/win-64\n",
      "                          https://repo.anaconda.com/pkgs/r/noarch\n",
      "                          https://repo.anaconda.com/pkgs/msys2/win-64\n",
      "                          https://repo.anaconda.com/pkgs/msys2/noarch\n",
      "          package cache : C:\\Users\\kawam\\anaconda3\\pkgs\n",
      "                          C:\\Users\\kawam\\.conda\\pkgs\n",
      "                          C:\\Users\\kawam\\AppData\\Local\\conda\\conda\\pkgs\n",
      "       envs directories : C:\\Users\\kawam\\anaconda3\\envs\n",
      "                          C:\\Users\\kawam\\.conda\\envs\n",
      "                          C:\\Users\\kawam\\AppData\\Local\\conda\\conda\\envs\n",
      "               platform : win-64\n",
      "             user-agent : conda/23.7.4 requests/2.31.0 CPython/3.11.5 Windows/10 Windows/10.0.22621 aau/0.4.2 c/nHutwiKACqyMTDIIW-JHWA s/QqC3Y1CKrf8BKN_UJUBKjA e/Rn6sqKNorIjDsl7n-_luOQ\n",
      "          administrator : False\n",
      "             netrc file : None\n",
      "           offline mode : False\n",
      "\n",
      "\n"
     ]
    }
   ],
   "source": [
    "!conda info"
   ]
  },
  {
   "cell_type": "code",
   "execution_count": 8,
   "id": "057ade04",
   "metadata": {},
   "outputs": [],
   "source": [
    "import openai"
   ]
  },
  {
   "cell_type": "code",
   "execution_count": 5,
   "id": "ddae6a1d",
   "metadata": {},
   "outputs": [
    {
     "name": "stdout",
     "output_type": "stream",
     "text": [
      "\n",
      "     active environment : gptenv\n",
      "    active env location : C:\\Users\\kawam\\anaconda3\\envs\\gptenv\n",
      "            shell level : 1\n",
      "       user config file : C:\\Users\\kawam\\.condarc\n",
      " populated config files : C:\\Users\\kawam\\.condarc\n",
      "          conda version : 23.7.4\n",
      "    conda-build version : 3.26.1\n",
      "         python version : 3.11.5.final.0\n",
      "       virtual packages : __archspec=1=x86_64\n",
      "                          __cuda=12.1=0\n",
      "                          __win=0=0\n",
      "       base environment : C:\\Users\\kawam\\anaconda3  (writable)\n",
      "      conda av data dir : C:\\Users\\kawam\\anaconda3\\etc\\conda\n",
      "  conda av metadata url : None\n",
      "           channel URLs : https://repo.anaconda.com/pkgs/main/win-64\n",
      "                          https://repo.anaconda.com/pkgs/main/noarch\n",
      "                          https://repo.anaconda.com/pkgs/r/win-64\n",
      "                          https://repo.anaconda.com/pkgs/r/noarch\n",
      "                          https://repo.anaconda.com/pkgs/msys2/win-64\n",
      "                          https://repo.anaconda.com/pkgs/msys2/noarch\n",
      "          package cache : C:\\Users\\kawam\\anaconda3\\pkgs\n",
      "                          C:\\Users\\kawam\\.conda\\pkgs\n",
      "                          C:\\Users\\kawam\\AppData\\Local\\conda\\conda\\pkgs\n",
      "       envs directories : C:\\Users\\kawam\\anaconda3\\envs\n",
      "                          C:\\Users\\kawam\\.conda\\envs\n",
      "                          C:\\Users\\kawam\\AppData\\Local\\conda\\conda\\envs\n",
      "               platform : win-64\n",
      "             user-agent : conda/23.7.4 requests/2.31.0 CPython/3.11.5 Windows/10 Windows/10.0.22621 aau/0.4.2 c/nHutwiKACqyMTDIIW-JHWA s/HLMFytGUso8jLUMim-81KQ e/Rn6sqKNorIjDsl7n-_luOQ\n",
      "          administrator : False\n",
      "             netrc file : None\n",
      "           offline mode : False\n",
      "\n",
      "\n"
     ]
    }
   ],
   "source": []
  },
  {
   "cell_type": "code",
   "execution_count": null,
   "id": "aa778735",
   "metadata": {},
   "outputs": [],
   "source": []
  }
 ],
 "metadata": {
  "kernelspec": {
   "display_name": "Python 3 (ipykernel)",
   "language": "python",
   "name": "python3"
  },
  "language_info": {
   "codemirror_mode": {
    "name": "ipython",
    "version": 3
   },
   "file_extension": ".py",
   "mimetype": "text/x-python",
   "name": "python",
   "nbconvert_exporter": "python",
   "pygments_lexer": "ipython3",
   "version": "3.11.5"
  }
 },
 "nbformat": 4,
 "nbformat_minor": 5
}
